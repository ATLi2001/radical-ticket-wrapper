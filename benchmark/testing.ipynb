{
 "cells": [
  {
   "cell_type": "code",
   "execution_count": 1,
   "metadata": {},
   "outputs": [],
   "source": [
    "import requests\n",
    "import time"
   ]
  },
  {
   "cell_type": "code",
   "execution_count": 12,
   "metadata": {},
   "outputs": [
    {
     "name": "stdout",
     "output_type": "stream",
     "text": [
      "307.7294999966398\n"
     ]
    },
    {
     "data": {
      "text/plain": [
       "<Response [200]>"
      ]
     },
     "execution_count": 12,
     "metadata": {},
     "output_type": "execute_result"
    }
   ],
   "source": [
    "session = requests.Session()\n",
    "target = \"https://ticket-bench-orch.radical-serverless.com\"\n",
    "consistency_check_url = \"https://nuamf2bgzlrfj6vubqfzkjv52m0kpefu.lambda-url.us-east-2.on.aws/\"\n",
    "lambda_url = \"https://67f42q3sp4gqm7rfgvjngamyra0wrsew.lambda-url.us-east-2.on.aws/\"\n",
    "session.post(target + \"/populate_tickets\", data=\"10\")\n",
    "\n",
    "i=0\n",
    "ticket_data = {\n",
    "  \"id\": i,\n",
    "  \"taken\": True,\n",
    "  \"res_email\": f\"test_{i}@test.com\",\n",
    "  \"res_name\": f\"Test Name{i}\", \n",
    "  \"res_card\": f\"{i}xxxx1234\", \n",
    "}\n",
    "\n",
    "reqData = {\n",
    "  \"remoteUrl\": consistency_check_url,\n",
    "  \"backup\": lambda_url,\n",
    "  \"args\": ticket_data,\n",
    "}\n",
    "\n",
    "start = time.perf_counter()\n",
    "session.post(target, json=reqData)\n",
    "end = time.perf_counter()\n",
    "\n",
    "print((end - start) * 1000)\n",
    "\n",
    "session.get(target + \"/get_ticket\")\n",
    "\n",
    "\n"
   ]
  }
 ],
 "metadata": {
  "kernelspec": {
   "display_name": "ronbus",
   "language": "python",
   "name": "python3"
  },
  "language_info": {
   "codemirror_mode": {
    "name": "ipython",
    "version": 3
   },
   "file_extension": ".py",
   "mimetype": "text/x-python",
   "name": "python",
   "nbconvert_exporter": "python",
   "pygments_lexer": "ipython3",
   "version": "3.10.11"
  }
 },
 "nbformat": 4,
 "nbformat_minor": 2
}
